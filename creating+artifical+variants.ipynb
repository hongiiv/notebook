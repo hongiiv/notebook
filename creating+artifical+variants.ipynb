{
 "cells": [
  {
   "cell_type": "markdown",
   "metadata": {},
   "source": [
    "#### 엑손 영역에 대한 가상의 유전변이를 생성하도록 하자."
   ]
  },
  {
   "cell_type": "code",
   "execution_count": 1,
   "metadata": {
    "collapsed": true
   },
   "outputs": [],
   "source": [
    "#import exon region\n",
    "# BRCA1 exon 10 region RefSeqBRCA.tsv\n",
    "'''\n",
    "Chr\tStart\tStop\tGene Name\tTranscript Name\tType\tTranscript Type\tStrand\tCDS Start\tCDS Stop\tExon Starts\tExon Stops\tProduct ID\tProte\n",
    "in ID\tGeneID\tHGNC\tMIM\tCCDS\tHPRD\tSummary of Product\tLRG ID\n",
    "17\t41196312\t41277500\tBRCA1\tNM_007300.3\tmRNA\tmRNA\t-\t41197694\t41276113\t41243451\t41246877\tNP_009231.2\tNP_00\n",
    "9231.2\t672\t1100\t113705\tCCDS11456.2\t?\tbreast cancer type 1 susceptibility protein isoform 2\t?\n",
    "'''\n",
    "import itertools\n",
    "import random\n",
    "import os\n",
    "import datetime\n",
    "import pandas as pd\n",
    "import numpy as np\n",
    "from HTSeq import FastaReader\n",
    "\n",
    "raw_df=pd.read_csv(\"RefSeqBRC_2.tsv\", sep=\"\\t\")"
   ]
  },
  {
   "cell_type": "code",
   "execution_count": 2,
   "metadata": {
    "collapsed": false
   },
   "outputs": [
    {
     "data": {
      "text/html": [
       "<div>\n",
       "<table border=\"1\" class=\"dataframe\">\n",
       "  <thead>\n",
       "    <tr style=\"text-align: right;\">\n",
       "      <th></th>\n",
       "      <th>Chr</th>\n",
       "      <th>Start</th>\n",
       "      <th>Stop</th>\n",
       "      <th>Gene Name</th>\n",
       "      <th>Transcript Name</th>\n",
       "      <th>Type</th>\n",
       "      <th>Transcript Type</th>\n",
       "      <th>Strand</th>\n",
       "      <th>CDS Start</th>\n",
       "      <th>CDS Stop</th>\n",
       "      <th>...</th>\n",
       "      <th>Exon Stops</th>\n",
       "      <th>Product ID</th>\n",
       "      <th>Protein ID</th>\n",
       "      <th>GeneID</th>\n",
       "      <th>HGNC</th>\n",
       "      <th>MIM</th>\n",
       "      <th>CCDS</th>\n",
       "      <th>HPRD</th>\n",
       "      <th>Summary of Product</th>\n",
       "      <th>LRG ID</th>\n",
       "    </tr>\n",
       "  </thead>\n",
       "  <tbody>\n",
       "    <tr>\n",
       "      <th>0</th>\n",
       "      <td>17</td>\n",
       "      <td>41196312</td>\n",
       "      <td>41277500</td>\n",
       "      <td>BRCA1</td>\n",
       "      <td>NM_007294.3</td>\n",
       "      <td>mRNA</td>\n",
       "      <td>mRNA</td>\n",
       "      <td>-</td>\n",
       "      <td>41197694</td>\n",
       "      <td>41276113</td>\n",
       "      <td>...</td>\n",
       "      <td>41197819,41199720,41201211,41203134,41209152,4...</td>\n",
       "      <td>NP_009225.1</td>\n",
       "      <td>NP_009225.1</td>\n",
       "      <td>672</td>\n",
       "      <td>1100</td>\n",
       "      <td>113705</td>\n",
       "      <td>CCDS11453.1</td>\n",
       "      <td>?</td>\n",
       "      <td>breast cancer type 1 susceptibility protein is...</td>\n",
       "      <td>LRG_292t1</td>\n",
       "    </tr>\n",
       "  </tbody>\n",
       "</table>\n",
       "<p>1 rows × 21 columns</p>\n",
       "</div>"
      ],
      "text/plain": [
       "   Chr     Start      Stop Gene Name Transcript Name  Type Transcript Type  \\\n",
       "0   17  41196312  41277500     BRCA1     NM_007294.3  mRNA            mRNA   \n",
       "\n",
       "  Strand  CDS Start  CDS Stop    ...      \\\n",
       "0      -   41197694  41276113    ...       \n",
       "\n",
       "                                          Exon Stops   Product ID  \\\n",
       "0  41197819,41199720,41201211,41203134,41209152,4...  NP_009225.1   \n",
       "\n",
       "    Protein ID GeneID  HGNC     MIM         CCDS HPRD  \\\n",
       "0  NP_009225.1    672  1100  113705  CCDS11453.1    ?   \n",
       "\n",
       "                                  Summary of Product     LRG ID  \n",
       "0  breast cancer type 1 susceptibility protein is...  LRG_292t1  \n",
       "\n",
       "[1 rows x 21 columns]"
      ]
     },
     "execution_count": 2,
     "metadata": {},
     "output_type": "execute_result"
    }
   ],
   "source": [
    "raw_df"
   ]
  },
  {
   "cell_type": "code",
   "execution_count": 3,
   "metadata": {
    "collapsed": false
   },
   "outputs": [
    {
     "data": {
      "text/plain": [
       "'41196311,41199659,41201137,41203079,41209068,41215349,41215890,41219624,41222944,41226347,41228504,41234420,41242960,41243451,41247862,41249260,41251791,41256138,41256884,41258472,41267742,41276033,41277287'"
      ]
     },
     "execution_count": 3,
     "metadata": {},
     "output_type": "execute_result"
    }
   ],
   "source": [
    "raw_df[\"Exon Starts\"][0]"
   ]
  },
  {
   "cell_type": "code",
   "execution_count": 4,
   "metadata": {
    "collapsed": false
   },
   "outputs": [],
   "source": [
    "tx_exon_dict=dict()\n",
    "for i in range(len(raw_df)):\n",
    "    exon_start_stop = zip(map(int,raw_df[\"Exon Starts\"][i].split(\",\")),map(int, raw_df[\"Exon Stops\"][i].split(\",\")))\n",
    "    tx_exon_dict[raw_df[\"Transcript Name\"][i]]= exon_start_stop"
   ]
  },
  {
   "cell_type": "code",
   "execution_count": 5,
   "metadata": {
    "collapsed": false
   },
   "outputs": [
    {
     "name": "stdout",
     "output_type": "stream",
     "text": [
      "NM_007294.3\n",
      "[(41196311, 41197819), (41199659, 41199720), (41201137, 41201211), (41203079, 41203134), (41209068, 41209152), (41215349, 41215390), (41215890, 41215968), (41219624, 41219712), (41222944, 41223255), (41226347, 41226538), (41228504, 41228631), (41234420, 41234592), (41242960, 41243049), (41243451, 41246877), (41247862, 41247939), (41249260, 41249306), (41251791, 41251897), (41256138, 41256278), (41256884, 41256973), (41258472, 41258550), (41267742, 41267796), (41276033, 41276132), (41277287, 41277500)]\n"
     ]
    }
   ],
   "source": [
    "for tx_name, exon_coordinate_list in tx_exon_dict.items():\n",
    "    print tx_name\n",
    "    print exon_coordinate_list"
   ]
  },
  {
   "cell_type": "code",
   "execution_count": 6,
   "metadata": {
    "collapsed": false
   },
   "outputs": [],
   "source": [
    "expanded_tx_exon_dict=dict()\n",
    "for tx_name, exon_coordinate_list in tx_exon_dict.items():\n",
    "    new_coordiante_list=[]\n",
    "    for start, stop in exon_coordinate_list:\n",
    "        new_start=start-100\n",
    "        new_stop=stop+100\n",
    "        new_coordiante_list.append((new_start, new_stop))\n",
    "    expanded_tx_exon_dict[tx_name] = new_coordiante_list\n",
    "    "
   ]
  },
  {
   "cell_type": "code",
   "execution_count": 7,
   "metadata": {
    "collapsed": false
   },
   "outputs": [
    {
     "data": {
      "text/plain": [
       "{'NM_007294.3': [(41196211, 41197919),\n",
       "  (41199559, 41199820),\n",
       "  (41201037, 41201311),\n",
       "  (41202979, 41203234),\n",
       "  (41208968, 41209252),\n",
       "  (41215249, 41215490),\n",
       "  (41215790, 41216068),\n",
       "  (41219524, 41219812),\n",
       "  (41222844, 41223355),\n",
       "  (41226247, 41226638),\n",
       "  (41228404, 41228731),\n",
       "  (41234320, 41234692),\n",
       "  (41242860, 41243149),\n",
       "  (41243351, 41246977),\n",
       "  (41247762, 41248039),\n",
       "  (41249160, 41249406),\n",
       "  (41251691, 41251997),\n",
       "  (41256038, 41256378),\n",
       "  (41256784, 41257073),\n",
       "  (41258372, 41258650),\n",
       "  (41267642, 41267896),\n",
       "  (41275933, 41276232),\n",
       "  (41277187, 41277600)]}"
      ]
     },
     "execution_count": 7,
     "metadata": {},
     "output_type": "execute_result"
    }
   ],
   "source": [
    "expanded_tx_exon_dict"
   ]
  },
  {
   "cell_type": "code",
   "execution_count": 8,
   "metadata": {
    "collapsed": false
   },
   "outputs": [
    {
     "name": "stdout",
     "output_type": "stream",
     "text": [
      "[(41196211, 41197919), (41199559, 41199820), (41201037, 41201311), (41202979, 41203234), (41208968, 41209252), (41215249, 41215490), (41215790, 41216068), (41219524, 41219812), (41222844, 41223355), (41226247, 41226638), (41228404, 41228731), (41234320, 41234692), (41242860, 41243149), (41243351, 41246977), (41247762, 41248039), (41249160, 41249406), (41251691, 41251997), (41256038, 41256378), (41256784, 41257073), (41258372, 41258650), (41267642, 41267896), (41275933, 41276232), (41277187, 41277600)]\n"
     ]
    }
   ],
   "source": [
    "interval_list=[]\n",
    "[interval_list.extend(x) for x in expanded_tx_exon_dict.itervalues()]\n",
    "print(interval_list)"
   ]
  },
  {
   "cell_type": "code",
   "execution_count": 9,
   "metadata": {
    "collapsed": false
   },
   "outputs": [
    {
     "data": {
      "text/plain": [
       "[(41196211, 41197919),\n",
       " (41199559, 41199820),\n",
       " (41201037, 41201311),\n",
       " (41202979, 41203234),\n",
       " (41208968, 41209252),\n",
       " (41215249, 41215490),\n",
       " (41215790, 41216068),\n",
       " (41219524, 41219812),\n",
       " (41222844, 41223355),\n",
       " (41226247, 41226638),\n",
       " (41228404, 41228731),\n",
       " (41234320, 41234692),\n",
       " (41242860, 41243149),\n",
       " (41243351, 41246977),\n",
       " (41247762, 41248039),\n",
       " (41249160, 41249406),\n",
       " (41251691, 41251997),\n",
       " (41256038, 41256378),\n",
       " (41256784, 41257073),\n",
       " (41258372, 41258650),\n",
       " (41267642, 41267896),\n",
       " (41275933, 41276232),\n",
       " (41277187, 41277600)]"
      ]
     },
     "execution_count": 9,
     "metadata": {},
     "output_type": "execute_result"
    }
   ],
   "source": [
    "sorted_by_start=sorted(interval_list,key=lambda x: x[0])\n",
    "sorted_by_start"
   ]
  },
  {
   "cell_type": "code",
   "execution_count": 10,
   "metadata": {
    "collapsed": true
   },
   "outputs": [],
   "source": [
    "def collapse_intervals(intervals):\n",
    "    cur_start, cur_stop = intervals[0]\n",
    "    for next_start, next_stop in intervals[1:]:\n",
    "        if cur_stop < next_start:\n",
    "            yield cur_start, cur_stop\n",
    "            cur_start, cur_stop = next_start, next_stop\n",
    "        else:\n",
    "            cur_stop = next_stop\n",
    "    yield cur_start, cur_stop"
   ]
  },
  {
   "cell_type": "code",
   "execution_count": 11,
   "metadata": {
    "collapsed": false
   },
   "outputs": [
    {
     "name": "stdout",
     "output_type": "stream",
     "text": [
      "True\n",
      "True\n"
     ]
    }
   ],
   "source": [
    "test_intervals = [(1,4), (2,5), (5,7), (10,13)] #min set [(1,7), (10,13)]\n",
    "test_intervals2 = [(1,4), (2,5), (6,7), (10,13), (12,15)] #min set [(1,5), (6,7), (10,15)]\n",
    "print(list(collapse_intervals(test_intervals)) == [(1,7), (10,13)])\n",
    "print(list(collapse_intervals(test_intervals2)) == [(1,5), (6,7), (10,15)])"
   ]
  },
  {
   "cell_type": "code",
   "execution_count": 12,
   "metadata": {
    "collapsed": false
   },
   "outputs": [
    {
     "name": "stdout",
     "output_type": "stream",
     "text": [
      "Before collapsing we have: 23 intervals\n",
      "After collapsing we have: 23 intervals\n",
      "\n",
      "Our new interval set:\n",
      "\n",
      "[(41196211, 41197919), (41199559, 41199820), (41201037, 41201311), (41202979, 41203234), (41208968, 41209252), (41215249, 41215490), (41215790, 41216068), (41219524, 41219812), (41222844, 41223355), (41226247, 41226638), (41228404, 41228731), (41234320, 41234692), (41242860, 41243149), (41243351, 41246977), (41247762, 41248039), (41249160, 41249406), (41251691, 41251997), (41256038, 41256378), (41256784, 41257073), (41258372, 41258650), (41267642, 41267896), (41275933, 41276232), (41277187, 41277600)]\n"
     ]
    }
   ],
   "source": [
    "collapsed_interval_list = list(collapse_intervals(sorted_by_start))\n",
    "print(\"Before collapsing we have: \" + str(len(interval_list)) + \" intervals\")\n",
    "print(\"After collapsing we have: \" + str(len(collapsed_interval_list)) + \" intervals\")\n",
    "print(\"\\nOur new interval set:\\n\")\n",
    "print(collapsed_interval_list)"
   ]
  },
  {
   "cell_type": "markdown",
   "metadata": {},
   "source": [
    "####  interval list를 엑손 10번으로 교체"
   ]
  },
  {
   "cell_type": "code",
   "execution_count": 13,
   "metadata": {
    "collapsed": true
   },
   "outputs": [],
   "source": [
    "collapsed_interval_list=[(41242860, 41243149)]"
   ]
  },
  {
   "cell_type": "code",
   "execution_count": 14,
   "metadata": {
    "collapsed": false
   },
   "outputs": [
    {
     "name": "stdout",
     "output_type": "stream",
     "text": [
      "['A', 'G', 'C', 'T']\n",
      "['AG', 'AC', 'AT', 'GA', 'GC', 'GT', 'CA', 'CG', 'CT', 'TA', 'TG', 'TC']\n",
      "['AGC', 'AGT', 'ACG', 'ACT', 'ATG', 'ATC', 'GAC', 'GAT', 'GCA', 'GCT', 'GTA', 'GTC', 'CAG', 'CAT', 'CGA', 'CGT', 'CTA', 'CTG', 'TAG', 'TAC', 'TGA', 'TGC', 'TCA', 'TCG']\n"
     ]
    }
   ],
   "source": [
    "BASES = ['A', 'G', 'C', 'T']\n",
    "TWOBASES = [ ''.join(combo) for combo in itertools.permutations(BASES, 2)]\n",
    "THREEBASES = [ ''.join(combo) for combo in itertools.permutations(BASES, 3)]\n",
    "print BASES\n",
    "print TWOBASES\n",
    "print THREEBASES"
   ]
  },
  {
   "cell_type": "code",
   "execution_count": 15,
   "metadata": {
    "collapsed": true
   },
   "outputs": [],
   "source": [
    "chr7_seq = FastaReader(\"/NGENEBIO/workflow-dependencies/chr17.fa\").__iter__().next()\n"
   ]
  },
  {
   "cell_type": "code",
   "execution_count": 16,
   "metadata": {
    "collapsed": true
   },
   "outputs": [],
   "source": [
    "def get_variants(chr, pos):\n",
    "    variant_list = []\n",
    "    #subtract 1 because python lists are 0-indexed; add 3 b/c python list slicing is exclusive of upper index\n",
    "    ref = chr7_seq[pos-1:pos+3].seq.upper()\n",
    "    variant_list.extend(get_snps(chr, pos, ref))\n",
    "    variant_list.extend(get_insertions(chr, pos, ref))\n",
    "    variant_list.extend(get_deletions(chr, pos, ref))\n",
    "    return variant_list\n",
    "\n",
    "def get_snps(chr, pos, ref):\n",
    "    snp_list = []\n",
    "    ref = ref[0]\n",
    "    for base in BASES:\n",
    "        if base == ref: continue\n",
    "        snp_list.append({'#CHROM': chr, 'POS': pos, 'REF': ref, 'ALT': base})\n",
    "    return snp_list\n",
    "\n",
    "def get_insertions(chr, pos, ref):\n",
    "    ins_list = []\n",
    "    ref = ref[0]\n",
    "    for base in itertools.chain(BASES, random.sample(TWOBASES, 2), random.sample(THREEBASES, 2)):\n",
    "        ins_list.append({'#CHROM': chr, 'POS': pos,'REF': ref[0], 'ALT': ref[0] + base})\n",
    "    return ins_list\n",
    "\n",
    "def get_deletions(chr, pos, ref):\n",
    "    del_list = []\n",
    "    del_list.append({'#CHROM': chr, 'POS': pos, 'REF': ref[0:2], 'ALT': ref[0]})\n",
    "    del_list.append({'#CHROM': chr, 'POS': pos, 'REF': ref[0:3], 'ALT': ref[0]})\n",
    "    del_list.append({'#CHROM': chr, 'POS': pos, 'REF': ref, 'ALT': ref[0]})\n",
    "    return del_list"
   ]
  },
  {
   "cell_type": "code",
   "execution_count": 17,
   "metadata": {
    "collapsed": false
   },
   "outputs": [
    {
     "name": "stdout",
     "output_type": "stream",
     "text": [
      "Empty DataFrame\n",
      "Columns: [#CHROM, POS, ID, REF, ALT, QUAL, FILTER, INFO, FORMAT, SAMPLE]\n",
      "Index: []\n"
     ]
    }
   ],
   "source": [
    "col_names= ['#CHROM', 'POS', 'ID', 'REF', 'ALT', 'QUAL', 'FILTER','INFO','FORMAT','SAMPLE']\n",
    "variant_df = pd.DataFrame(columns=col_names)\n",
    "print variant_df\n",
    "for interval in collapsed_interval_list:\n",
    "    pos, stop = interval\n",
    "    while(pos < stop):\n",
    "        var_dict = get_variants(7, pos)\n",
    "        variant_df = variant_df.append(var_dict)\n",
    "        pos += 1\n",
    "#hard code in our genotype information\n",
    "variant_df['FORMAT'] = 'GT'\n",
    "variant_df['SAMPLE'] = '0/1'"
   ]
  },
  {
   "cell_type": "code",
   "execution_count": 18,
   "metadata": {
    "collapsed": false
   },
   "outputs": [
    {
     "data": {
      "text/html": [
       "<div>\n",
       "<table border=\"1\" class=\"dataframe\">\n",
       "  <thead>\n",
       "    <tr style=\"text-align: right;\">\n",
       "      <th></th>\n",
       "      <th>#CHROM</th>\n",
       "      <th>POS</th>\n",
       "      <th>ID</th>\n",
       "      <th>REF</th>\n",
       "      <th>ALT</th>\n",
       "      <th>QUAL</th>\n",
       "      <th>FILTER</th>\n",
       "      <th>INFO</th>\n",
       "      <th>FORMAT</th>\n",
       "      <th>SAMPLE</th>\n",
       "    </tr>\n",
       "  </thead>\n",
       "  <tbody>\n",
       "    <tr>\n",
       "      <th>0</th>\n",
       "      <td>7.0</td>\n",
       "      <td>41242860.0</td>\n",
       "      <td>NaN</td>\n",
       "      <td>T</td>\n",
       "      <td>A</td>\n",
       "      <td>NaN</td>\n",
       "      <td>NaN</td>\n",
       "      <td>NaN</td>\n",
       "      <td>GT</td>\n",
       "      <td>0/1</td>\n",
       "    </tr>\n",
       "    <tr>\n",
       "      <th>1</th>\n",
       "      <td>7.0</td>\n",
       "      <td>41242860.0</td>\n",
       "      <td>NaN</td>\n",
       "      <td>T</td>\n",
       "      <td>G</td>\n",
       "      <td>NaN</td>\n",
       "      <td>NaN</td>\n",
       "      <td>NaN</td>\n",
       "      <td>GT</td>\n",
       "      <td>0/1</td>\n",
       "    </tr>\n",
       "    <tr>\n",
       "      <th>2</th>\n",
       "      <td>7.0</td>\n",
       "      <td>41242860.0</td>\n",
       "      <td>NaN</td>\n",
       "      <td>T</td>\n",
       "      <td>C</td>\n",
       "      <td>NaN</td>\n",
       "      <td>NaN</td>\n",
       "      <td>NaN</td>\n",
       "      <td>GT</td>\n",
       "      <td>0/1</td>\n",
       "    </tr>\n",
       "    <tr>\n",
       "      <th>3</th>\n",
       "      <td>7.0</td>\n",
       "      <td>41242860.0</td>\n",
       "      <td>NaN</td>\n",
       "      <td>T</td>\n",
       "      <td>TA</td>\n",
       "      <td>NaN</td>\n",
       "      <td>NaN</td>\n",
       "      <td>NaN</td>\n",
       "      <td>GT</td>\n",
       "      <td>0/1</td>\n",
       "    </tr>\n",
       "    <tr>\n",
       "      <th>4</th>\n",
       "      <td>7.0</td>\n",
       "      <td>41242860.0</td>\n",
       "      <td>NaN</td>\n",
       "      <td>T</td>\n",
       "      <td>TG</td>\n",
       "      <td>NaN</td>\n",
       "      <td>NaN</td>\n",
       "      <td>NaN</td>\n",
       "      <td>GT</td>\n",
       "      <td>0/1</td>\n",
       "    </tr>\n",
       "  </tbody>\n",
       "</table>\n",
       "</div>"
      ],
      "text/plain": [
       "   #CHROM         POS   ID REF ALT QUAL FILTER INFO FORMAT SAMPLE\n",
       "0     7.0  41242860.0  NaN   T   A  NaN    NaN  NaN     GT    0/1\n",
       "1     7.0  41242860.0  NaN   T   G  NaN    NaN  NaN     GT    0/1\n",
       "2     7.0  41242860.0  NaN   T   C  NaN    NaN  NaN     GT    0/1\n",
       "3     7.0  41242860.0  NaN   T  TA  NaN    NaN  NaN     GT    0/1\n",
       "4     7.0  41242860.0  NaN   T  TG  NaN    NaN  NaN     GT    0/1"
      ]
     },
     "execution_count": 18,
     "metadata": {},
     "output_type": "execute_result"
    }
   ],
   "source": [
    "variant_df.head()"
   ]
  },
  {
   "cell_type": "code",
   "execution_count": 20,
   "metadata": {
    "collapsed": false
   },
   "outputs": [
    {
     "data": {
      "text/plain": [
       "'##fileformat=VCFv4.1\\n##fileDate=20161007\\n##source=CFTR_Variant_Project\\n##FORMAT=<ID=GT,Number=1,Type=String,Description=\"Genotype\">\\n\\n#CHROM\\tPOS\\tID\\tREF\\tALT\\tQUAL\\tFILTER\\tINFO\\tFORMAT\\tSAMPLE\\n#CHROM\\tPOS\\tID\\tREF\\tALT\\tQUAL\\tFILTER\\tINFO\\tFORMAT\\tSAMPLE'"
      ]
     },
     "execution_count": 20,
     "metadata": {},
     "output_type": "execute_result"
    }
   ],
   "source": [
    "vcf_header = \"\"\"##fileformat=VCFv4.1\n",
    "##fileDate={0}\n",
    "##source=CFTR_Variant_Project\n",
    "##FORMAT=<ID=GT,Number=1,Type=String,Description=\"Genotype\">\n",
    "\"\"\"\n",
    "vcf_header = vcf_header.format(datetime.datetime.utcnow().strftime(\"%Y%m%d\"))\n",
    "'\\n'.join([vcf_header, ('\\t'.join(variant_df.columns)), '\\t'.join(col_names)])"
   ]
  },
  {
   "cell_type": "code",
   "execution_count": 21,
   "metadata": {
    "collapsed": true
   },
   "outputs": [],
   "source": [
    "output_file = \"brca_test_artifical_variant.vcf\"\n",
    "try:\n",
    "    os.remove(output_file)\n",
    "except OSError:\n",
    "    pass\n",
    "with open(output_file, 'a') as f:\n",
    "    f.write(vcf_header)\n",
    "    variant_df.to_csv(f, sep='\\t', na_rep='.', index=False)"
   ]
  },
  {
   "cell_type": "code",
   "execution_count": 22,
   "metadata": {
    "collapsed": false
   },
   "outputs": [
    {
     "name": "stderr",
     "output_type": "stream",
     "text": [
      "/usr/local/lib/python2.7/dist-packages/IPython/core/interactiveshell.py:2881: PerformanceWarning: \n",
      "your performance may suffer as PyTables will pickle object types that it cannot\n",
      "map directly to c-types [inferred_type->mixed,key->block1_values] [items->['ID', 'REF', 'ALT', 'QUAL', 'FILTER', 'INFO', 'FORMAT', 'SAMPLE']]\n",
      "\n",
      "  exec(code_obj, self.user_global_ns, self.user_ns)\n"
     ]
    }
   ],
   "source": [
    "store_file=\"store.h5\"\n",
    "try:\n",
    "    os.remove(store_file)\n",
    "except OSError:\n",
    "    pass\n",
    "store = pd.HDFStore(store_file)\n",
    "store['variant_df'] = variant_df"
   ]
  },
  {
   "cell_type": "code",
   "execution_count": null,
   "metadata": {
    "collapsed": true
   },
   "outputs": [],
   "source": []
  }
 ],
 "metadata": {
  "kernelspec": {
   "display_name": "Python 2",
   "language": "python",
   "name": "python2"
  },
  "language_info": {
   "codemirror_mode": {
    "name": "ipython",
    "version": 2
   },
   "file_extension": ".py",
   "mimetype": "text/x-python",
   "name": "python",
   "nbconvert_exporter": "python",
   "pygments_lexer": "ipython2",
   "version": "2.7.11"
  }
 },
 "nbformat": 4,
 "nbformat_minor": 1
}
